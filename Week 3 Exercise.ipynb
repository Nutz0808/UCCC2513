{
 "cells": [
  {
   "cell_type": "markdown",
   "id": "f8bd3ea0",
   "metadata": {},
   "source": [
    "## Exercise 3"
   ]
  },
  {
   "cell_type": "code",
   "execution_count": null,
   "id": "de3d904a",
   "metadata": {},
   "outputs": [],
   "source": [
    "import sys\n",
    "assert sys.version_info >= (3, 7)\n",
    "\n",
    "import numpy as np\n",
    "import cv2 as cv\n",
    "\n",
    "cap = cv.VideoCapture(\"videos/img_pexels.mp4\")\n",
    "\n",
    "if not cap.isOpened():\n",
    "    sys.exit(\"No such file\")\n",
    "\n",
    "fps = 15\n",
    "fourcc = cv.VideoWriter_fourcc(\"M\",\"J\",\"P\",\"G\")#video codec\n",
    "out = cv.VideoWriter(\"videos/smaller_img_pexels.avi\", fourcc,fps, (w,h))\n",
    "\n",
    "\n",
    "while True:\n",
    "    ret, frame = cap.read()#ret is the status, frame is the image lecturer said\n",
    "    frame_resize = cv.resize(frame, None, fx=0.3, fy=0.3)\n",
    "    w, h = int(frame_resize.shape[1]), int(frame_resize.shape[0])#set width and height to the resized width and height\n",
    "    \n",
    "    if not ret:\n",
    "        print(\"No frame detected\")\n",
    "        break\n",
    "        \n",
    "    cv.imshow(\"resized frame\", frame_resize)\n",
    "    out.write(frame_resize)#write the resized frame to the output video\n",
    "    \n",
    "    k = cv.waitKey(1) &0xFF\n",
    "    if k == 27:\n",
    "        break\n",
    "cap.release()\n",
    "cv.destroyAllWindows()"
   ]
  },
  {
   "cell_type": "markdown",
   "id": "406a764f",
   "metadata": {},
   "source": [
    "## Exercise 4"
   ]
  },
  {
   "cell_type": "code",
   "execution_count": null,
   "id": "a1e66795",
   "metadata": {},
   "outputs": [],
   "source": [
    "img = cv.imread('images/dog.jfif')\n",
    "\n",
    "linear_interpolation = cv.resize(img, None, fx=1.5, fy=1.5, interpolation=cv.INTER_LINEAR)\n",
    "cubic_interpolation = cv.resize(img, None, fx=1.5, fy=1.5, interpolation=cv.INTER_CUBIC)\n",
    "nearest_neighbor_interpolation = cv.resize(img, None, fx=1.5, fy=1.5, interpolation=cv.INTER_NEAREST)\n",
    "\n",
    "cv.imshow(\"Original Image\", img)#original dog image\n",
    "cv.imshow(\"Linear Interpolation\", linear_interpolation)#the result is smooth but blurry\n",
    "cv.imshow(\"Cubic Interpolation\", cubic_interpolation) #the result is smoother than linear but is a bit pixelated\n",
    "cv.imshow(\"Nearest Neighbor Interpolation\", nearest_neighbor_interpolation)#the result is very pixelated but the edges are clearer\n",
    "\n",
    "cv.waitKey(0)\n",
    "cv.destroyAllWindows()"
   ]
  }
 ],
 "metadata": {
  "kernelspec": {
   "display_name": "Python 3 (ipykernel)",
   "language": "python",
   "name": "python3"
  },
  "language_info": {
   "codemirror_mode": {
    "name": "ipython",
    "version": 3
   },
   "file_extension": ".py",
   "mimetype": "text/x-python",
   "name": "python",
   "nbconvert_exporter": "python",
   "pygments_lexer": "ipython3",
   "version": "3.9.7"
  }
 },
 "nbformat": 4,
 "nbformat_minor": 5
}
