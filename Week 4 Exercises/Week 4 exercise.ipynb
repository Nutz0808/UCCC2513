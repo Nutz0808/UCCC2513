{
 "cells": [
  {
   "cell_type": "markdown",
   "id": "596d1452",
   "metadata": {},
   "source": [
    "## Exercise 1"
   ]
  },
  {
   "cell_type": "code",
   "execution_count": 7,
   "id": "ff7c3901",
   "metadata": {},
   "outputs": [],
   "source": [
    "import sys\n",
    "# Python 3.7 is required\n",
    "assert sys.version_info >= (3, 7)\n",
    "\n",
    "import cv2 as cv\n",
    "import numpy as np\n",
    "from util_func import show_img\n",
    "\n",
    "# Define the width and height of the images\n",
    "width = 512\n",
    "height = 512\n",
    "\n",
    "# Create a random noise color image\n",
    "color = np.random.randint(0, 256, (height, width, 3), dtype=np.uint8)\n",
    "cv.imshow(\"color image\", color)\n",
    "# Create a random noise grayscale image\n",
    "grayscale = np.random.randint(0, 256, (height, width), dtype=np.uint8)\n",
    "cv.imshow('grayscale image', grayscale)\n",
    "\n",
    "cv.waitKey(0)\n",
    "cv.destroyAllWindows()"
   ]
  },
  {
   "cell_type": "markdown",
   "id": "9eaac4e6",
   "metadata": {},
   "source": [
    "## Exercise 2"
   ]
  },
  {
   "cell_type": "code",
   "execution_count": 36,
   "id": "57892832",
   "metadata": {},
   "outputs": [],
   "source": [
    "import sys\n",
    "# Python 3.7 is required\n",
    "assert sys.version_info >= (3, 7)\n",
    "\n",
    "import cv2 as cv\n",
    "import numpy as np\n",
    "from util_func import show_img\n",
    "\n",
    "img = cv.imread('images/dog.jfif')\n",
    "img_copy = img.copy()\n",
    "\n",
    "def crop_grid(img, num_horizontal_grid, num_vertical_grid, line_color):\n",
    "    h,w = img.shape[:2]\n",
    "    \n",
    "    M = int(h/num_vertical_grid)\n",
    "    N = int(w/num_horizontal_grid)\n",
    "    tiles = []\n",
    "\n",
    "    for y in range(0,h,M):\n",
    "        for x in range(0,w,N):\n",
    "            x1 = x+N\n",
    "            y1 = y+M\n",
    "\n",
    "            if x1 > w and y1 > h:\n",
    "                x1 = w - 1\n",
    "                y1 = h - 1\n",
    "                cv.rectangle(img_copy, (x,y),(x1,y1),line_color,1)\n",
    "                tile = img[y:h, x:w]\n",
    "                tiles.append(tile)\n",
    "            elif y1 > h:\n",
    "                y1 = h-1\n",
    "                cv.rectangle(img_copy, (x,y),(x1,y1),line_color,1)\n",
    "                tile = img[y:h, x:x1]\n",
    "                tiles.append(tile)\n",
    "            elif x1>w:\n",
    "                x1 = w-1\n",
    "                cv.rectangle(img_copy, (x,y),(x1,y1),line_color,1)\n",
    "                tile = img[y:y1, x:w]\n",
    "                tiles.append(tile)\n",
    "            else:\n",
    "                cv.rectangle(img_copy, (x,y),(x1,y1),line_color,1)\n",
    "                tile = img[y:y1, x:x1]\n",
    "                tiles.append(tile)\n",
    "                          \n",
    "    cv.imshow('patched image', img_copy)\n",
    "    cv.waitKey(0)\n",
    "    cv.destroyAllWindows()\n",
    "            "
   ]
  },
  {
   "cell_type": "code",
   "execution_count": 38,
   "id": "68b79c73",
   "metadata": {},
   "outputs": [],
   "source": [
    "crop_grid(img, 4, 4, (0,255,0))"
   ]
  },
  {
   "cell_type": "markdown",
   "id": "7b63193f",
   "metadata": {},
   "source": [
    "## Exercise 3"
   ]
  },
  {
   "cell_type": "code",
   "execution_count": 44,
   "id": "7760269f",
   "metadata": {},
   "outputs": [],
   "source": [
    "import sys\n",
    "# Python 3.7 is required\n",
    "assert sys.version_info >= (3, 7)\n",
    "\n",
    "import cv2 as cv\n",
    "import numpy as np\n",
    "from util_func import show_img\n",
    "\n",
    "img = cv.imread(\"images/lena.jfif\")\n",
    "img2 = cv.imread(\"images/coins.jfif\")\n",
    "\n",
    "for i in range(11):#loop alpha value 0 to 10\n",
    "    \n",
    "    alpha = i/10\n",
    "    h,w = img.shape[:2]\n",
    "    img2 = cv.resize(img2, (w,h))\n",
    "\n",
    "    #blending\n",
    "    res = cv.addWeighted(img, alpha, img2, 1-alpha,0)\n",
    "\n",
    "    cv.imshow(\"blending\", res)\n",
    "    cv.waitKey(100)\n",
    "    \n",
    "cv.waitKey(0)\n",
    "cv.destroyAllWindows()"
   ]
  },
  {
   "cell_type": "markdown",
   "id": "2f554ee0",
   "metadata": {},
   "source": [
    "## Exercise 4"
   ]
  },
  {
   "cell_type": "code",
   "execution_count": 7,
   "id": "1c14ba44",
   "metadata": {},
   "outputs": [],
   "source": [
    "import sys\n",
    "# Python 3.7 is required\n",
    "assert sys.version_info >= (3, 7)\n",
    "\n",
    "import cv2 as cv\n",
    "import numpy as np\n",
    "from util_func import show_img\n",
    "\n",
    "img = cv.imread(\"images/travel_hd.jpg\")\n",
    "watermark = cv.imread(\"images/Nutz.png\")\n",
    "\n",
    "img = cv.resize(img, None, fx=0.125,fy=0.125)\n",
    "watermark = cv.resize(watermark, None, fx=0.5, fy=0.5)\n",
    "\n",
    "alpha = 0.1\n",
    "h,w = img.shape[:2]\n",
    "wh, ww = watermark.shape[:2]\n",
    "\n",
    "overlay = np.zeros_like(img, np.uint8)\n",
    "overlay[h-wh:h, :ww] = watermark\n",
    "mask = overlay.astype(bool)\n",
    "\n",
    "img[mask] = cv.addWeighted(img,alpha,overlay,1-alpha,0)[mask]\n",
    "\n",
    "show_img(\"watermarked\", img)"
   ]
  }
 ],
 "metadata": {
  "kernelspec": {
   "display_name": "Python 3 (ipykernel)",
   "language": "python",
   "name": "python3"
  },
  "language_info": {
   "codemirror_mode": {
    "name": "ipython",
    "version": 3
   },
   "file_extension": ".py",
   "mimetype": "text/x-python",
   "name": "python",
   "nbconvert_exporter": "python",
   "pygments_lexer": "ipython3",
   "version": "3.9.7"
  }
 },
 "nbformat": 4,
 "nbformat_minor": 5
}
