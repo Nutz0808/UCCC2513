{
 "cells": [
  {
   "cell_type": "markdown",
   "id": "91501b63",
   "metadata": {},
   "source": [
    "## Exercise 1"
   ]
  },
  {
   "cell_type": "code",
   "execution_count": 18,
   "id": "c840420f",
   "metadata": {},
   "outputs": [],
   "source": [
    "import sys\n",
    "# Python 3.7 is required\n",
    "assert sys.version_info >= (3, 7)\n",
    "\n",
    "import cv2 as cv\n",
    "import numpy as np\n",
    "import math\n",
    "from util_func import show_img\n",
    "\n",
    "img = cv.imread(\"images/lena.jfif\")\n",
    "\n",
    "h, w = img.shape[:2]\n",
    "yc, xc = h // 2, w // 2\n",
    "angle = -45  # negative -> rotate clockwise\n",
    "\n",
    "M = cv.getRotationMatrix2D((xc, yc), angle, 1)\n",
    "cos_angle = abs(M[0, 0])\n",
    "sin_angle = abs(M[0, 1])\n",
    "new_width = int((h * sin_angle) + (w * cos_angle))\n",
    "new_height = int((h * cos_angle) + (w * sin_angle))\n",
    "M[0, 2] += (new_width / 2) - xc\n",
    "M[1, 2] += (new_height / 2) - yc\n",
    "\n",
    "dst = cv.warpAffine(img, M, (new_width, new_height))\n",
    "show_img(\"Rotation\", dst)"
   ]
  },
  {
   "cell_type": "code",
   "execution_count": 48,
   "id": "964b42cb",
   "metadata": {},
   "outputs": [],
   "source": [
    "import imutils\n",
    "\n",
    "img = cv.imread(\"images/lena.jfif\")\n",
    "angle = 45\n",
    "rotated_image = imutils.rotate_bound(img, angle)\n",
    "show_img(\"rotated\",rotated_image)"
   ]
  },
  {
   "cell_type": "markdown",
   "id": "2cb1dfdc",
   "metadata": {},
   "source": [
    "## Exercise 2"
   ]
  },
  {
   "cell_type": "code",
   "execution_count": 52,
   "id": "d65de161",
   "metadata": {},
   "outputs": [],
   "source": [
    "import cv2 as cv\n",
    "import numpy as np\n",
    "from util_func import show_img\n",
    "\n",
    "flower_img = cv.imread(\"images/flower.jfif\")\n",
    "bee_img = cv.imread(\"images/native-bee.png\")\n",
    "x_pos = 5  \n",
    "y_pos = 5  \n",
    "flower_height, flower_width = flower_img.shape[:2]\n",
    "\n",
    "gray_flower = cv.cvtColor(flower_img, cv.COLOR_BGR2GRAY)\n",
    "mask = cv.threshold(gray_flower, 70, 255, cv.THRESH_BINARY)[1]\n",
    "mask_inv = cv.bitwise_not(mask)\n",
    "\n",
    "roi = bee_img[y_pos:y_pos + flower_height, x_pos:x_pos + flower_width]\n",
    "roi_result = cv.bitwise_and(roi, roi, mask=mask_inv)\n",
    "flower_result = cv.bitwise_and(flower_img, flower_img, mask=mask)\n",
    "res = cv.add(roi_result, flower_result)\n",
    "bee_img[y_pos:y_pos + flower_height, x_pos:x_pos + flower_width] = res\n",
    "\n",
    "show_img(\"Result\", bee_img)\n",
    "\n"
   ]
  },
  {
   "cell_type": "markdown",
   "id": "a6a614be",
   "metadata": {},
   "source": [
    "## Exercise 3"
   ]
  },
  {
   "cell_type": "code",
   "execution_count": 56,
   "id": "0e9b0eee",
   "metadata": {},
   "outputs": [],
   "source": [
    "import cv2 as cv\n",
    "import numpy as np\n",
    "\n",
    "img = cv.imread('images/native-bee.png')\n",
    "\n",
    "kernel3 = np.array([[0, -1, 0], [-1, 5, -1], [0, -1, 0]], dtype=np.float32)\n",
    "kernel5 = np.full((5,5),-1)\n",
    "kernel5[3,3] = 25\n",
    "\n",
    "sharpened3 = cv.filter2D(img, -1, kernel3)\n",
    "sharpened5 = cv.filter2D(img, -1, kernel5)\n",
    "\n",
    "cv.imshow('original', img)\n",
    "cv.imshow('sharpened 3x3', sharpened3)\n",
    "show_img('sharpened 5x5', sharpened5)"
   ]
  },
  {
   "cell_type": "markdown",
   "id": "c27b80df",
   "metadata": {},
   "source": [
    "## Exercise 4"
   ]
  },
  {
   "cell_type": "code",
   "execution_count": 61,
   "id": "c91f1875",
   "metadata": {},
   "outputs": [],
   "source": [
    "import cv2 as cv\n",
    "import numpy as np\n",
    "\n",
    "img = cv.imread(\"images/noise_lena.jpg\")\n",
    "average_filtered = cv.blur(img, (5, 5))\n",
    "gaussian_filtered = cv.GaussianBlur(img, (5, 5), 0)\n",
    "median_filtered = cv.medianBlur(img, 5)\n",
    "\n",
    "res = np.hstack((img, average_filtered, gaussian_filtered, median_filtered))\n",
    "show_img(\"result\", res)"
   ]
  }
 ],
 "metadata": {
  "kernelspec": {
   "display_name": "Python 3 (ipykernel)",
   "language": "python",
   "name": "python3"
  },
  "language_info": {
   "codemirror_mode": {
    "name": "ipython",
    "version": 3
   },
   "file_extension": ".py",
   "mimetype": "text/x-python",
   "name": "python",
   "nbconvert_exporter": "python",
   "pygments_lexer": "ipython3",
   "version": "3.9.7"
  }
 },
 "nbformat": 4,
 "nbformat_minor": 5
}
